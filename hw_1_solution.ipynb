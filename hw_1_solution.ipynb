{
 "cells": [
  {
   "cell_type": "markdown",
   "metadata": {},
   "source": [
    "1. Сравните метрики hit_rate@k, precision@k.   \n",
    "Какую метрику использовать предпочтительно и почему?  \n",
    "Приведите пример 2-3 задач (опишите, что является клиентом, что товаром), в которой более уместно использовать метрику hit_rate?\n"
   ]
  },
  {
   "cell_type": "markdown",
   "metadata": {},
   "source": [
    "- Эти два варианта для флагов ответов юзеров неразличимы для pr@5, но hit_rate@5 отличит их"
   ]
  },
  {
   "cell_type": "code",
   "execution_count": null,
   "metadata": {},
   "outputs": [],
   "source": [
    "u1: [000] [000]\n",
    "u2: [100] [100]\n",
    "u3: [000] [100]\n",
    "u4: [000] [000]\n",
    "u5: [010] [010]\n",
    "u6: [110] [100]"
   ]
  },
  {
   "cell_type": "markdown",
   "metadata": {},
   "source": [
    "- Предлагаем однотипные товары\n",
    "- По смыслу пользователь может/хочет купить 1 товар из предложенных\n",
    "- Элитные / очень дорогие / эластичные по цене товар\n",
    "- Когда важен experience пользователя (а не продажа товара)"
   ]
  },
  {
   "cell_type": "markdown",
   "metadata": {},
   "source": [
    "2. В метрике NDCG@k мы используем логарифм в знаменателе. Как Вы думаете, почему именно логарифм? Какую функцию можно использовать вместо логарифма? Привидите пример метрик/подходов к предобработке данных/функций ошибок в ML, где также в  логарифм.\n",
    "\n"
   ]
  },
  {
   "cell_type": "markdown",
   "metadata": {},
   "source": [
    "Можем взять любые __медленно__ растущие функции!"
   ]
  },
  {
   "cell_type": "markdown",
   "metadata": {},
   "source": [
    "Логарифм - классический прием для сглаживания чего-либо\n",
    "- log likelihood estimation\n",
    "- логистическая регрессия\n",
    "- tf_idf; bm25  \n",
    "- RLMSE  \n",
    "- Метод Бокса-Кокса\n",
    "\n",
    " Пользуемся свойствами функции логарифм\n",
    "- log derivative trick\n",
    "- энтропия Шеннона\n",
    "- mutial information\n",
    "- KL divergence\n"
   ]
  },
  {
   "cell_type": "markdown",
   "metadata": {},
   "source": [
    "3. Какие еще метрики (Вы можете вспомнить уже пройденные Вами или посмотреть в интернете) могут использоваться для рекомендательных систем (приведите примеры метрики **и чем являются интеракции**, чтобы она могла быть использована)."
   ]
  },
  {
   "cell_type": "markdown",
   "metadata": {},
   "source": [
    "- корреляции\n",
    "- метрики классификации\n",
    "- мера Жакара\n",
    "- каскадная модель pfound / err\n",
    "- маркетинговые показатели  \n",
    "CVR (conversion rate) - коэффициент конверсии   \n",
    "CTR (click throught rate) - кликабельность  \n",
    "OR (Open-Rate) - открываемость e-mail сообщений  \n",
    "- MAE RMSE MSE (для explicit)\n"
   ]
  },
  {
   "cell_type": "markdown",
   "metadata": {},
   "source": [
    "4. boughted = [1, 3, 5, 7, 9, 11]  \n",
    "recommended = [2, 5, 7, 4, 11, 9, 8, 10, 12, 3]  \n",
    "Посчитайте на этих данных pr@8, rec@8, AP@8, NDCG@8, RR@8, ERR@8 (expected reciprocal rank)  \n",
    "Сначала поссчитайет \"руками\", а затем подтвердите рассчеты с помощью функций (некоторые были на семинаре, некоторые нужно будут написать самостоятельно)"
   ]
  },
  {
   "cell_type": "markdown",
   "metadata": {},
   "source": [
    "**Пример выполнения 4го задания**\n",
    "\n",
    "MSE на  \n",
    "$y = [0, 2]$  \n",
    "$y_{pred} = [1, 2]$\n",
    "\n",
    "MSE = $0.5*((0 - 1)^2 + (2-2)^2) = 0.5$ "
   ]
  },
  {
   "cell_type": "code",
   "execution_count": 4,
   "metadata": {},
   "outputs": [
    {
     "data": {
      "text/plain": [
       "0.5"
      ]
     },
     "execution_count": 4,
     "metadata": {},
     "output_type": "execute_result"
    }
   ],
   "source": [
    "import numpy as np\n",
    "((np.array([0, 2]) - np.array([1, 2]))**2).mean()"
   ]
  },
  {
   "cell_type": "markdown",
   "metadata": {},
   "source": [
    "$precison@8 = \\frac{0 + 1 + 1 +0 + 1 + 1 + 0 + 0}{1+1+1+1+1+1+1+1} = 50\\%$  "
   ]
  },
  {
   "cell_type": "markdown",
   "metadata": {},
   "source": [
    "$recall@8 = \\frac{0 + 1 + 1 +0 + 1 + 1 + 0 + 0}{6} = 67\\%$  "
   ]
  },
  {
   "cell_type": "markdown",
   "metadata": {},
   "source": [
    "$AP@8 = \\frac{0 *\\frac{0}{1}+ 1*\\frac{0 + 1}{2} + 1*\\frac{0 + 1 + 1 }{3} +0*\\frac{0 + 1 + 1 +0 }{4} + 1*\\frac{0 + 1 + 1 +0 + 1 }{5} + 1*\\frac{0 + 1 + 1 +0 + 1 + 1 }{6} + 0 *\\frac{0 + 1 + 1 +0 + 1 + 1 + 0 }{7}+ 0*\\frac{0 + 1 + 1 +0 + 1 + 1 + 0 + 0}{8}}{10} = \\frac{1*\\frac{0 + 1}{2} + 1*\\frac{0 + 1 + 1 }{3} + 1*\\frac{0 + 1 + 1 +0 + 1 }{5} + 1*\\frac{0 + 1 + 1 +0 + 1 + 1 }{6} }{10} = 24\\%$  \n"
   ]
  },
  {
   "cell_type": "markdown",
   "metadata": {},
   "source": [
    "$DCG@8 = \\frac{1}{8}*(0 / 1 + 1 / log(2) + 1 / log(3) + 0 / log(4) + 1 / log(5) + 1 / log(6) + 0 / log(7) + 0 / log(8)) = 0.44$  \n",
    "$ideal DCG@8 = \\frac{1}{8}*(1 / 1 + 1 / log(2) + 1 / log(3) + 1 / log(4) + 1 / log(5) + 1 / log(6) + 1 / log(7) + 1 / log(8)) = 0.78$  \n",
    "\n",
    "$NDCG = \\frac{DCG}{ideal DCG} = 56\\%$"
   ]
  },
  {
   "cell_type": "markdown",
   "metadata": {},
   "source": [
    "$MRR@8 = \\frac{1}{8}*(\\frac{1}{2}+\\frac{1}{3}+\\frac{1}{5}+\\frac{1}{6}) = 15\\%$"
   ]
  }
 ],
 "metadata": {
  "kernelspec": {
   "display_name": "Python 3",
   "language": "python",
   "name": "python3"
  },
  "language_info": {
   "codemirror_mode": {
    "name": "ipython",
    "version": 3
   },
   "file_extension": ".py",
   "mimetype": "text/x-python",
   "name": "python",
   "nbconvert_exporter": "python",
   "pygments_lexer": "ipython3",
   "version": "3.6.5"
  }
 },
 "nbformat": 4,
 "nbformat_minor": 2
}
